{
 "cells": [
  {
   "cell_type": "markdown",
   "id": "4026d6cd",
   "metadata": {},
   "source": [
    "# Question 12\n",
    "In this exercise, we will use simulations to empirically understand some findings."
   ]
  },
  {
   "cell_type": "code",
   "execution_count": null,
   "id": "c157f18a",
   "metadata": {
    "vscode": {
     "languageId": "plaintext"
    }
   },
   "outputs": [],
   "source": [
    "# import statements\n",
    "import numpy as np\n",
    "import scipy as sp\n",
    "import matplotlib.pyplot as plt\n",
    "import math"
   ]
  },
  {
   "cell_type": "code",
   "execution_count": null,
   "id": "ae38320e",
   "metadata": {
    "vscode": {
     "languageId": "plaintext"
    }
   },
   "outputs": [],
   "source": []
  }
 ],
 "metadata": {
  "language_info": {
   "name": "python"
  }
 },
 "nbformat": 4,
 "nbformat_minor": 5
}
